{
 "cells": [
  {
   "cell_type": "code",
   "execution_count": 1,
   "metadata": {},
   "outputs": [],
   "source": [
    "import numpy as np\n",
    "import pandas as pd\n",
    "import re\n",
    "# from nltk.corpus import stopwords \n",
    "# from nltk.stem.porter import PorterStemmer\n",
    "# from sklearn.feature_extraction.text import TfidfVectorizer\n",
    "from sklearn.model_selection import train_test_split\n",
    "from sklearn.linear_model import LogisticRegression\n",
    "from sklearn.metrics import accuracy_score"
   ]
  },
  {
   "cell_type": "code",
   "execution_count": 2,
   "metadata": {},
   "outputs": [
    {
     "name": "stderr",
     "output_type": "stream",
     "text": [
      "[nltk_data] Downloading package stopwords to\n",
      "[nltk_data]     /Users/vincentzhao/nltk_data...\n",
      "[nltk_data]   Package stopwords is already up-to-date!\n"
     ]
    },
    {
     "data": {
      "text/plain": [
       "True"
      ]
     },
     "execution_count": 2,
     "metadata": {},
     "output_type": "execute_result"
    }
   ],
   "source": [
    " import nltk\n",
    " \n",
    " nltk.download('stopwords')"
   ]
  },
  {
   "cell_type": "markdown",
   "metadata": {},
   "source": [
    "Data Processing"
   ]
  },
  {
   "cell_type": "code",
   "execution_count": 3,
   "metadata": {},
   "outputs": [],
   "source": [
    "twitter_data = pd.read_csv('data/training.1600000.processed.noemoticon.csv', names=[\"target\", \"ids\", \"date\", \"flag\", \"user\", \"text\"])"
   ]
  },
  {
   "cell_type": "code",
   "execution_count": 4,
   "metadata": {},
   "outputs": [
    {
     "data": {
      "text/plain": [
       "Index(['target', 'ids', 'date', 'flag', 'user', 'text'], dtype='object')"
      ]
     },
     "execution_count": 4,
     "metadata": {},
     "output_type": "execute_result"
    }
   ],
   "source": [
    "twitter_data.columns"
   ]
  },
  {
   "cell_type": "code",
   "execution_count": 5,
   "metadata": {},
   "outputs": [
    {
     "data": {
      "text/html": [
       "<div>\n",
       "<style scoped>\n",
       "    .dataframe tbody tr th:only-of-type {\n",
       "        vertical-align: middle;\n",
       "    }\n",
       "\n",
       "    .dataframe tbody tr th {\n",
       "        vertical-align: top;\n",
       "    }\n",
       "\n",
       "    .dataframe thead th {\n",
       "        text-align: right;\n",
       "    }\n",
       "</style>\n",
       "<table border=\"1\" class=\"dataframe\">\n",
       "  <thead>\n",
       "    <tr style=\"text-align: right;\">\n",
       "      <th></th>\n",
       "      <th>target</th>\n",
       "      <th>ids</th>\n",
       "      <th>date</th>\n",
       "      <th>flag</th>\n",
       "      <th>user</th>\n",
       "      <th>text</th>\n",
       "    </tr>\n",
       "  </thead>\n",
       "  <tbody>\n",
       "    <tr>\n",
       "      <th>0</th>\n",
       "      <td>0</td>\n",
       "      <td>1467810369</td>\n",
       "      <td>Mon Apr 06 22:19:45 PDT 2009</td>\n",
       "      <td>NO_QUERY</td>\n",
       "      <td>_TheSpecialOne_</td>\n",
       "      <td>@switchfoot http://twitpic.com/2y1zl - Awww, t...</td>\n",
       "    </tr>\n",
       "    <tr>\n",
       "      <th>1</th>\n",
       "      <td>0</td>\n",
       "      <td>1467810672</td>\n",
       "      <td>Mon Apr 06 22:19:49 PDT 2009</td>\n",
       "      <td>NO_QUERY</td>\n",
       "      <td>scotthamilton</td>\n",
       "      <td>is upset that he can't update his Facebook by ...</td>\n",
       "    </tr>\n",
       "    <tr>\n",
       "      <th>2</th>\n",
       "      <td>0</td>\n",
       "      <td>1467810917</td>\n",
       "      <td>Mon Apr 06 22:19:53 PDT 2009</td>\n",
       "      <td>NO_QUERY</td>\n",
       "      <td>mattycus</td>\n",
       "      <td>@Kenichan I dived many times for the ball. Man...</td>\n",
       "    </tr>\n",
       "    <tr>\n",
       "      <th>3</th>\n",
       "      <td>0</td>\n",
       "      <td>1467811184</td>\n",
       "      <td>Mon Apr 06 22:19:57 PDT 2009</td>\n",
       "      <td>NO_QUERY</td>\n",
       "      <td>ElleCTF</td>\n",
       "      <td>my whole body feels itchy and like its on fire</td>\n",
       "    </tr>\n",
       "    <tr>\n",
       "      <th>4</th>\n",
       "      <td>0</td>\n",
       "      <td>1467811193</td>\n",
       "      <td>Mon Apr 06 22:19:57 PDT 2009</td>\n",
       "      <td>NO_QUERY</td>\n",
       "      <td>Karoli</td>\n",
       "      <td>@nationwideclass no, it's not behaving at all....</td>\n",
       "    </tr>\n",
       "  </tbody>\n",
       "</table>\n",
       "</div>"
      ],
      "text/plain": [
       "   target         ids                          date      flag  \\\n",
       "0       0  1467810369  Mon Apr 06 22:19:45 PDT 2009  NO_QUERY   \n",
       "1       0  1467810672  Mon Apr 06 22:19:49 PDT 2009  NO_QUERY   \n",
       "2       0  1467810917  Mon Apr 06 22:19:53 PDT 2009  NO_QUERY   \n",
       "3       0  1467811184  Mon Apr 06 22:19:57 PDT 2009  NO_QUERY   \n",
       "4       0  1467811193  Mon Apr 06 22:19:57 PDT 2009  NO_QUERY   \n",
       "\n",
       "              user                                               text  \n",
       "0  _TheSpecialOne_  @switchfoot http://twitpic.com/2y1zl - Awww, t...  \n",
       "1    scotthamilton  is upset that he can't update his Facebook by ...  \n",
       "2         mattycus  @Kenichan I dived many times for the ball. Man...  \n",
       "3          ElleCTF    my whole body feels itchy and like its on fire   \n",
       "4           Karoli  @nationwideclass no, it's not behaving at all....  "
      ]
     },
     "execution_count": 5,
     "metadata": {},
     "output_type": "execute_result"
    }
   ],
   "source": [
    "twitter_data.head()"
   ]
  },
  {
   "cell_type": "markdown",
   "metadata": {},
   "source": [
    "convert positive and negative from 0,4 to -1,1"
   ]
  },
  {
   "cell_type": "code",
   "execution_count": 6,
   "metadata": {},
   "outputs": [
    {
     "data": {
      "text/plain": [
       "0         -1.0\n",
       "1         -1.0\n",
       "2         -1.0\n",
       "3         -1.0\n",
       "4         -1.0\n",
       "          ... \n",
       "1599995    1.0\n",
       "1599996    1.0\n",
       "1599997    1.0\n",
       "1599998    1.0\n",
       "1599999    1.0\n",
       "Name: target, Length: 1600000, dtype: float64"
      ]
     },
     "execution_count": 6,
     "metadata": {},
     "output_type": "execute_result"
    }
   ],
   "source": [
    "(twitter_data['target'] - 2)/2"
   ]
  },
  {
   "cell_type": "markdown",
   "metadata": {},
   "source": [
    "vectorize text data"
   ]
  },
  {
   "cell_type": "code",
   "execution_count": 12,
   "metadata": {},
   "outputs": [],
   "source": [
    "from sentence_transformers import SentenceTransformer\n",
    "import torch"
   ]
  },
  {
   "cell_type": "code",
   "execution_count": 15,
   "metadata": {},
   "outputs": [],
   "source": [
    "device = torch.cuda.current_device() if torch.cuda.is_available() else 'cpu'\n",
    "\n",
    "retriever = SentenceTransformer(\n",
    "    \"paraphrase-MiniLM-L6-v2\",\n",
    "    device = device\n",
    ")"
   ]
  },
  {
   "cell_type": "code",
   "execution_count": 17,
   "metadata": {},
   "outputs": [
    {
     "data": {
      "text/plain": [
       "array([[ 0.06508211, -0.07679299, -0.12622495, ..., -0.09275538,\n",
       "        -0.09516039, -0.1079419 ],\n",
       "       [-0.10582985, -0.34505373,  0.00617036, ..., -0.09631609,\n",
       "         0.11548704,  0.15210912],\n",
       "       [ 0.62591106,  0.75567585, -0.04665479, ..., -0.16667397,\n",
       "        -0.18563898, -0.0842871 ],\n",
       "       ...,\n",
       "       [ 0.19772325, -0.35297117,  0.45256093, ..., -0.02705677,\n",
       "        -0.1769398 , -0.38491836],\n",
       "       [ 0.23646286,  0.30513304,  0.3293145 , ..., -0.16758446,\n",
       "        -0.09090563, -0.00253769],\n",
       "       [-0.19584289,  0.5287847 , -0.03551808, ..., -0.3618492 ,\n",
       "        -0.16284265,  0.29656956]], dtype=float32)"
      ]
     },
     "execution_count": 17,
     "metadata": {},
     "output_type": "execute_result"
    }
   ],
   "source": [
    "embeddings = retriever.encode(twitter_data['text'])\n",
    "\n",
    "embeddings"
   ]
  },
  {
   "cell_type": "code",
   "execution_count": null,
   "metadata": {},
   "outputs": [],
   "source": []
  },
  {
   "cell_type": "markdown",
   "metadata": {},
   "source": [
    "seperate into training and testing data"
   ]
  },
  {
   "cell_type": "code",
   "execution_count": 18,
   "metadata": {},
   "outputs": [],
   "source": [
    "X_train, X_test, Y_train, Y_test = train_test_split(embeddings, twitter_data['target'], test_size=0.2, stratify=twitter_data['target'])"
   ]
  },
  {
   "cell_type": "markdown",
   "metadata": {},
   "source": [
    "creating model"
   ]
  },
  {
   "cell_type": "code",
   "execution_count": 19,
   "metadata": {},
   "outputs": [],
   "source": [
    "model = LogisticRegression(max_iter=1000)"
   ]
  },
  {
   "cell_type": "code",
   "execution_count": 20,
   "metadata": {},
   "outputs": [
    {
     "data": {
      "text/html": [
       "<style>#sk-container-id-1 {color: black;}#sk-container-id-1 pre{padding: 0;}#sk-container-id-1 div.sk-toggleable {background-color: white;}#sk-container-id-1 label.sk-toggleable__label {cursor: pointer;display: block;width: 100%;margin-bottom: 0;padding: 0.3em;box-sizing: border-box;text-align: center;}#sk-container-id-1 label.sk-toggleable__label-arrow:before {content: \"▸\";float: left;margin-right: 0.25em;color: #696969;}#sk-container-id-1 label.sk-toggleable__label-arrow:hover:before {color: black;}#sk-container-id-1 div.sk-estimator:hover label.sk-toggleable__label-arrow:before {color: black;}#sk-container-id-1 div.sk-toggleable__content {max-height: 0;max-width: 0;overflow: hidden;text-align: left;background-color: #f0f8ff;}#sk-container-id-1 div.sk-toggleable__content pre {margin: 0.2em;color: black;border-radius: 0.25em;background-color: #f0f8ff;}#sk-container-id-1 input.sk-toggleable__control:checked~div.sk-toggleable__content {max-height: 200px;max-width: 100%;overflow: auto;}#sk-container-id-1 input.sk-toggleable__control:checked~label.sk-toggleable__label-arrow:before {content: \"▾\";}#sk-container-id-1 div.sk-estimator input.sk-toggleable__control:checked~label.sk-toggleable__label {background-color: #d4ebff;}#sk-container-id-1 div.sk-label input.sk-toggleable__control:checked~label.sk-toggleable__label {background-color: #d4ebff;}#sk-container-id-1 input.sk-hidden--visually {border: 0;clip: rect(1px 1px 1px 1px);clip: rect(1px, 1px, 1px, 1px);height: 1px;margin: -1px;overflow: hidden;padding: 0;position: absolute;width: 1px;}#sk-container-id-1 div.sk-estimator {font-family: monospace;background-color: #f0f8ff;border: 1px dotted black;border-radius: 0.25em;box-sizing: border-box;margin-bottom: 0.5em;}#sk-container-id-1 div.sk-estimator:hover {background-color: #d4ebff;}#sk-container-id-1 div.sk-parallel-item::after {content: \"\";width: 100%;border-bottom: 1px solid gray;flex-grow: 1;}#sk-container-id-1 div.sk-label:hover label.sk-toggleable__label {background-color: #d4ebff;}#sk-container-id-1 div.sk-serial::before {content: \"\";position: absolute;border-left: 1px solid gray;box-sizing: border-box;top: 0;bottom: 0;left: 50%;z-index: 0;}#sk-container-id-1 div.sk-serial {display: flex;flex-direction: column;align-items: center;background-color: white;padding-right: 0.2em;padding-left: 0.2em;position: relative;}#sk-container-id-1 div.sk-item {position: relative;z-index: 1;}#sk-container-id-1 div.sk-parallel {display: flex;align-items: stretch;justify-content: center;background-color: white;position: relative;}#sk-container-id-1 div.sk-item::before, #sk-container-id-1 div.sk-parallel-item::before {content: \"\";position: absolute;border-left: 1px solid gray;box-sizing: border-box;top: 0;bottom: 0;left: 50%;z-index: -1;}#sk-container-id-1 div.sk-parallel-item {display: flex;flex-direction: column;z-index: 1;position: relative;background-color: white;}#sk-container-id-1 div.sk-parallel-item:first-child::after {align-self: flex-end;width: 50%;}#sk-container-id-1 div.sk-parallel-item:last-child::after {align-self: flex-start;width: 50%;}#sk-container-id-1 div.sk-parallel-item:only-child::after {width: 0;}#sk-container-id-1 div.sk-dashed-wrapped {border: 1px dashed gray;margin: 0 0.4em 0.5em 0.4em;box-sizing: border-box;padding-bottom: 0.4em;background-color: white;}#sk-container-id-1 div.sk-label label {font-family: monospace;font-weight: bold;display: inline-block;line-height: 1.2em;}#sk-container-id-1 div.sk-label-container {text-align: center;}#sk-container-id-1 div.sk-container {/* jupyter's `normalize.less` sets `[hidden] { display: none; }` but bootstrap.min.css set `[hidden] { display: none !important; }` so we also need the `!important` here to be able to override the default hidden behavior on the sphinx rendered scikit-learn.org. See: https://github.com/scikit-learn/scikit-learn/issues/21755 */display: inline-block !important;position: relative;}#sk-container-id-1 div.sk-text-repr-fallback {display: none;}</style><div id=\"sk-container-id-1\" class=\"sk-top-container\"><div class=\"sk-text-repr-fallback\"><pre>LogisticRegression(max_iter=1000)</pre><b>In a Jupyter environment, please rerun this cell to show the HTML representation or trust the notebook. <br />On GitHub, the HTML representation is unable to render, please try loading this page with nbviewer.org.</b></div><div class=\"sk-container\" hidden><div class=\"sk-item\"><div class=\"sk-estimator sk-toggleable\"><input class=\"sk-toggleable__control sk-hidden--visually\" id=\"sk-estimator-id-1\" type=\"checkbox\" checked><label for=\"sk-estimator-id-1\" class=\"sk-toggleable__label sk-toggleable__label-arrow\">LogisticRegression</label><div class=\"sk-toggleable__content\"><pre>LogisticRegression(max_iter=1000)</pre></div></div></div></div></div>"
      ],
      "text/plain": [
       "LogisticRegression(max_iter=1000)"
      ]
     },
     "execution_count": 20,
     "metadata": {},
     "output_type": "execute_result"
    }
   ],
   "source": [
    "model.fit(X_train, Y_train)"
   ]
  },
  {
   "cell_type": "markdown",
   "metadata": {},
   "source": [
    "model accuracy"
   ]
  },
  {
   "cell_type": "code",
   "execution_count": 21,
   "metadata": {},
   "outputs": [
    {
     "name": "stdout",
     "output_type": "stream",
     "text": [
      "0.7734515625\n"
     ]
    }
   ],
   "source": [
    "X_train_prediction = model.predict(X_train)\n",
    "\n",
    "training_data_accuracy = accuracy_score(Y_train, X_train_prediction)\n",
    "print(training_data_accuracy)"
   ]
  },
  {
   "cell_type": "code",
   "execution_count": 22,
   "metadata": {},
   "outputs": [
    {
     "name": "stdout",
     "output_type": "stream",
     "text": [
      "0.774134375\n"
     ]
    }
   ],
   "source": [
    "X_test_prediction = model.predict(X_test)\n",
    "\n",
    "testing_data_accuracy = accuracy_score(Y_test, X_test_prediction)\n",
    "print(testing_data_accuracy)"
   ]
  },
  {
   "cell_type": "markdown",
   "metadata": {},
   "source": [
    "saving model"
   ]
  },
  {
   "cell_type": "code",
   "execution_count": 23,
   "metadata": {},
   "outputs": [],
   "source": [
    "import pickle"
   ]
  },
  {
   "cell_type": "code",
   "execution_count": 26,
   "metadata": {},
   "outputs": [],
   "source": [
    "filename = '../sentiment_analysis_model_transformers.sav'\n",
    "\n",
    "pickle.dump(model, open(filename, 'wb'))"
   ]
  },
  {
   "cell_type": "code",
   "execution_count": 29,
   "metadata": {},
   "outputs": [
    {
     "ename": "ValueError",
     "evalue": "Expected 2D array, got 1D array instead:\narray=[ 0.06508211 -0.07679299 -0.12622495 -0.21194685 -0.37130913 -0.00826471\n  0.3785915  -0.08375602 -0.46897793 -0.21640076 -0.06643903 -0.11941078\n  0.15829617  0.47883844 -0.2279938  -0.17423813 -0.26982185 -0.13763326\n -0.23200516  0.36163703 -0.2000405   0.41419592  0.22448881 -0.02415787\n -0.24928416 -0.6047167   0.1545506   0.3345941  -0.47248006 -0.04750497\n  0.30256927  0.17677073 -0.07618343 -0.47670278  0.3131007   0.06442707\n -0.29676744  0.04129129  0.26438686  0.18893059  0.15592638 -0.28681895\n -0.14491712  0.09865984 -0.29145616  0.17820393  0.15251888  0.01244185\n  0.5235606  -0.30115196 -0.26732656  0.11977021  0.10050709 -0.744225\n  0.10310429  0.12596667  0.15902075  0.5404102   0.01969431 -0.12694304\n  0.38473293 -0.0016581  -0.131385    0.13452388  0.23858182 -0.12930803\n -0.44654918 -0.52816045 -0.4701198   0.08241788 -0.41215932 -0.11316337\n -0.01908605 -0.01629536 -0.06175913 -0.19537945  0.02687036  0.02340104\n -0.3286164  -0.34294915 -0.44874468 -0.21068919 -0.17909093  0.00164982\n -0.05389043 -0.12435964 -0.06339262 -0.09735153  0.10403486  0.05363674\n -0.19378625 -0.14856611  0.50340754  0.14866893  0.05527619 -0.10995919\n  0.13089508 -0.02554798 -0.60777265  0.14808036  0.06002587  0.13648011\n -0.11618322 -0.14594765  0.2551024   0.09142357  0.02068681  0.11091401\n  0.06683274 -0.11122895  0.22780423  0.27208623  0.25340116  0.12832297\n -0.18978232  0.13288826  0.03308627 -0.32031253  0.07570344 -0.13637525\n -0.00403569  0.22557993  0.24650067  0.15887511 -0.16172369 -0.28538647\n  0.08925512  0.3164984  -0.03279638  0.28451315 -0.14565411 -0.19206475\n  0.0293413   0.26757118 -0.5823484  -0.27287313 -0.0424837  -0.02308333\n  0.23277672 -0.09056436 -0.00645176  0.02110469 -0.22795635  0.05196917\n -0.27120408  0.09428886 -0.5102978   0.05468637 -0.14335252  0.10845118\n -0.1158242   0.23245572  0.17020993  0.06996397 -0.09667168 -0.22853464\n  0.44116175  0.22047801  0.17396045  0.1047859   0.01256129  0.09635582\n -0.12882316 -0.22820675  0.06109071 -0.14880225 -0.11028671  0.08500072\n  0.05372435  0.18236022  0.03240282 -0.3054709  -0.18167315 -0.02336091\n  0.3275161   0.09826288  0.21869826 -0.1561069   0.47101358  0.12015035\n  0.24069692 -0.24628423  0.02381954 -0.16768868 -0.00721502  0.11076397\n  0.20138316  0.40074873 -0.27817547 -0.34340528  0.07999127 -0.01888306\n -0.46768546 -0.15415905 -0.2068839   0.0746104  -0.33754864  0.36688197\n  0.03719887 -0.19462347 -0.04628366 -0.21039401 -0.03627566 -0.6309891\n -0.16648787 -0.1281356   0.1314138  -0.51882136  0.45245847  0.18347295\n -0.14973725 -0.5674616   0.20022015 -0.22555016 -0.05502248 -0.11729071\n  0.09024198  0.2639359  -0.13475758 -0.1612562  -0.16548565 -0.01659079\n  0.29478768 -0.2679694   0.00544825  0.14822507  0.09879123  0.15908845\n  0.14451142 -0.03748192  0.23210752 -0.13978171 -0.10906302  0.04250116\n  0.15869525  0.35953614  0.11556107 -0.01468793  0.30862972 -0.04465433\n  0.282567   -0.18742175  0.03615162  0.15587027  0.26645446 -0.03330783\n -0.1818846   0.13300951 -0.46320572  0.2991396  -0.01313541  0.56285954\n -0.43867877 -0.06994545 -0.08798037  0.29611954 -0.46009016  0.11818993\n  0.13524066  0.21134286 -0.40755937  0.13993953 -0.37441263  0.22933026\n  0.5097288  -0.1810451  -0.10503236  0.18870103 -0.44415435  0.00410778\n -0.07922513 -0.34284973  0.14743012  0.14742114  0.40507534  0.49319872\n  0.37236676  0.06470748 -0.24848886  0.47628888 -0.30799398  0.04453599\n  0.08796086  0.23759145 -0.12694596 -0.03893517  0.10219634 -0.15728754\n  0.08799217  0.06617392 -0.45118317  0.45245814 -0.14068435 -0.0933961\n  0.06553741 -0.01035757 -0.4067246  -0.03026918  0.11511489  0.33301643\n  0.03718917  0.06755742  0.03765108 -0.04731214 -0.04466363  0.00560012\n -0.07507671  0.22050755  0.08865219  0.17849863  0.28271356 -0.11132014\n  0.19082789  0.14157975  0.12599014  0.11380359  0.25136092 -0.19392596\n -0.16983525  0.10328332  0.15421517  0.22485016 -0.1928337   0.2549518\n  0.22163264  0.03913355  0.04187558  0.01398892 -0.43033978  0.50928503\n  0.3364012   0.00789882  0.18488325  0.13763933  0.4845527   0.45533183\n -0.19274688 -0.25239298 -0.03639395 -0.07375261 -0.22387141 -0.08108094\n  0.18437271  0.34099987  0.12326741 -0.0952329   0.41013598  0.12207922\n  0.22025687  0.25919786  0.06610215  0.22434358 -0.35109425 -0.02314264\n -0.09415088 -0.2938702  -0.30196783  0.11995559  0.37227777 -0.24010171\n  0.20523815  0.02354469 -0.19349152  0.47249284 -0.3537371  -0.24180533\n  0.07632077 -0.22133005 -0.04666026  0.03796793 -0.02524836 -0.04484881\n  0.04113794  0.12152828  0.5768658  -0.39887917 -0.06103776  0.10850806\n -0.53038913  0.08808285 -0.04302096 -0.09275538 -0.09516039 -0.1079419 ].\nReshape your data either using array.reshape(-1, 1) if your data has a single feature or array.reshape(1, -1) if it contains a single sample.",
     "output_type": "error",
     "traceback": [
      "\u001b[0;31m---------------------------------------------------------------------------\u001b[0m",
      "\u001b[0;31mValueError\u001b[0m                                Traceback (most recent call last)",
      "\u001b[0;32m/var/folders/y6/0cl3w1zj1j39sz13xbl1z24w0000gn/T/ipykernel_20274/968420498.py\u001b[0m in \u001b[0;36m<cell line: 0>\u001b[0;34m()\u001b[0m\n\u001b[0;32m----> 1\u001b[0;31m \u001b[0mpred\u001b[0m \u001b[0;34m=\u001b[0m \u001b[0mmodel\u001b[0m\u001b[0;34m.\u001b[0m\u001b[0mpredict\u001b[0m\u001b[0;34m(\u001b[0m\u001b[0membeddings\u001b[0m\u001b[0;34m[\u001b[0m\u001b[0;36m0\u001b[0m\u001b[0;34m]\u001b[0m\u001b[0;34m)\u001b[0m\u001b[0;34m\u001b[0m\u001b[0;34m\u001b[0m\u001b[0m\n\u001b[0m\u001b[1;32m      2\u001b[0m \u001b[0;34m\u001b[0m\u001b[0m\n\u001b[1;32m      3\u001b[0m \u001b[0mprint\u001b[0m\u001b[0;34m(\u001b[0m\u001b[0mpred\u001b[0m\u001b[0;34m,\u001b[0m \u001b[0mtwitter_data\u001b[0m\u001b[0;34m[\u001b[0m\u001b[0;34m'target'\u001b[0m\u001b[0;34m]\u001b[0m\u001b[0;34m[\u001b[0m\u001b[0;36m0\u001b[0m\u001b[0;34m]\u001b[0m\u001b[0;34m)\u001b[0m\u001b[0;34m\u001b[0m\u001b[0;34m\u001b[0m\u001b[0m\n",
      "\u001b[0;32m/Library/Frameworks/Python.framework/Versions/3.11/lib/python3.11/site-packages/sklearn/linear_model/_base.py\u001b[0m in \u001b[0;36mpredict\u001b[0;34m(self, X)\u001b[0m\n\u001b[1;32m    449\u001b[0m         \"\"\"\n\u001b[1;32m    450\u001b[0m         \u001b[0mxp\u001b[0m\u001b[0;34m,\u001b[0m \u001b[0m_\u001b[0m \u001b[0;34m=\u001b[0m \u001b[0mget_namespace\u001b[0m\u001b[0;34m(\u001b[0m\u001b[0mX\u001b[0m\u001b[0;34m)\u001b[0m\u001b[0;34m\u001b[0m\u001b[0;34m\u001b[0m\u001b[0m\n\u001b[0;32m--> 451\u001b[0;31m         \u001b[0mscores\u001b[0m \u001b[0;34m=\u001b[0m \u001b[0mself\u001b[0m\u001b[0;34m.\u001b[0m\u001b[0mdecision_function\u001b[0m\u001b[0;34m(\u001b[0m\u001b[0mX\u001b[0m\u001b[0;34m)\u001b[0m\u001b[0;34m\u001b[0m\u001b[0;34m\u001b[0m\u001b[0m\n\u001b[0m\u001b[1;32m    452\u001b[0m         \u001b[0;32mif\u001b[0m \u001b[0mlen\u001b[0m\u001b[0;34m(\u001b[0m\u001b[0mscores\u001b[0m\u001b[0;34m.\u001b[0m\u001b[0mshape\u001b[0m\u001b[0;34m)\u001b[0m \u001b[0;34m==\u001b[0m \u001b[0;36m1\u001b[0m\u001b[0;34m:\u001b[0m\u001b[0;34m\u001b[0m\u001b[0;34m\u001b[0m\u001b[0m\n\u001b[1;32m    453\u001b[0m             \u001b[0mindices\u001b[0m \u001b[0;34m=\u001b[0m \u001b[0mxp\u001b[0m\u001b[0;34m.\u001b[0m\u001b[0mastype\u001b[0m\u001b[0;34m(\u001b[0m\u001b[0mscores\u001b[0m \u001b[0;34m>\u001b[0m \u001b[0;36m0\u001b[0m\u001b[0;34m,\u001b[0m \u001b[0mint\u001b[0m\u001b[0;34m)\u001b[0m\u001b[0;34m\u001b[0m\u001b[0;34m\u001b[0m\u001b[0m\n",
      "\u001b[0;32m/Library/Frameworks/Python.framework/Versions/3.11/lib/python3.11/site-packages/sklearn/linear_model/_base.py\u001b[0m in \u001b[0;36mdecision_function\u001b[0;34m(self, X)\u001b[0m\n\u001b[1;32m    430\u001b[0m         \u001b[0mxp\u001b[0m\u001b[0;34m,\u001b[0m \u001b[0m_\u001b[0m \u001b[0;34m=\u001b[0m \u001b[0mget_namespace\u001b[0m\u001b[0;34m(\u001b[0m\u001b[0mX\u001b[0m\u001b[0;34m)\u001b[0m\u001b[0;34m\u001b[0m\u001b[0;34m\u001b[0m\u001b[0m\n\u001b[1;32m    431\u001b[0m \u001b[0;34m\u001b[0m\u001b[0m\n\u001b[0;32m--> 432\u001b[0;31m         \u001b[0mX\u001b[0m \u001b[0;34m=\u001b[0m \u001b[0mself\u001b[0m\u001b[0;34m.\u001b[0m\u001b[0m_validate_data\u001b[0m\u001b[0;34m(\u001b[0m\u001b[0mX\u001b[0m\u001b[0;34m,\u001b[0m \u001b[0maccept_sparse\u001b[0m\u001b[0;34m=\u001b[0m\u001b[0;34m\"csr\"\u001b[0m\u001b[0;34m,\u001b[0m \u001b[0mreset\u001b[0m\u001b[0;34m=\u001b[0m\u001b[0;32mFalse\u001b[0m\u001b[0;34m)\u001b[0m\u001b[0;34m\u001b[0m\u001b[0;34m\u001b[0m\u001b[0m\n\u001b[0m\u001b[1;32m    433\u001b[0m         \u001b[0mscores\u001b[0m \u001b[0;34m=\u001b[0m \u001b[0msafe_sparse_dot\u001b[0m\u001b[0;34m(\u001b[0m\u001b[0mX\u001b[0m\u001b[0;34m,\u001b[0m \u001b[0mself\u001b[0m\u001b[0;34m.\u001b[0m\u001b[0mcoef_\u001b[0m\u001b[0;34m.\u001b[0m\u001b[0mT\u001b[0m\u001b[0;34m,\u001b[0m \u001b[0mdense_output\u001b[0m\u001b[0;34m=\u001b[0m\u001b[0;32mTrue\u001b[0m\u001b[0;34m)\u001b[0m \u001b[0;34m+\u001b[0m \u001b[0mself\u001b[0m\u001b[0;34m.\u001b[0m\u001b[0mintercept_\u001b[0m\u001b[0;34m\u001b[0m\u001b[0;34m\u001b[0m\u001b[0m\n\u001b[1;32m    434\u001b[0m         \u001b[0;32mreturn\u001b[0m \u001b[0mxp\u001b[0m\u001b[0;34m.\u001b[0m\u001b[0mreshape\u001b[0m\u001b[0;34m(\u001b[0m\u001b[0mscores\u001b[0m\u001b[0;34m,\u001b[0m \u001b[0;34m(\u001b[0m\u001b[0;34m-\u001b[0m\u001b[0;36m1\u001b[0m\u001b[0;34m,\u001b[0m\u001b[0;34m)\u001b[0m\u001b[0;34m)\u001b[0m \u001b[0;32mif\u001b[0m \u001b[0mscores\u001b[0m\u001b[0;34m.\u001b[0m\u001b[0mshape\u001b[0m\u001b[0;34m[\u001b[0m\u001b[0;36m1\u001b[0m\u001b[0;34m]\u001b[0m \u001b[0;34m==\u001b[0m \u001b[0;36m1\u001b[0m \u001b[0;32melse\u001b[0m \u001b[0mscores\u001b[0m\u001b[0;34m\u001b[0m\u001b[0;34m\u001b[0m\u001b[0m\n",
      "\u001b[0;32m/Library/Frameworks/Python.framework/Versions/3.11/lib/python3.11/site-packages/sklearn/base.py\u001b[0m in \u001b[0;36m_validate_data\u001b[0;34m(self, X, y, reset, validate_separately, cast_to_ndarray, **check_params)\u001b[0m\n\u001b[1;32m    602\u001b[0m                 \u001b[0mout\u001b[0m \u001b[0;34m=\u001b[0m \u001b[0mX\u001b[0m\u001b[0;34m,\u001b[0m \u001b[0my\u001b[0m\u001b[0;34m\u001b[0m\u001b[0;34m\u001b[0m\u001b[0m\n\u001b[1;32m    603\u001b[0m         \u001b[0;32melif\u001b[0m \u001b[0;32mnot\u001b[0m \u001b[0mno_val_X\u001b[0m \u001b[0;32mand\u001b[0m \u001b[0mno_val_y\u001b[0m\u001b[0;34m:\u001b[0m\u001b[0;34m\u001b[0m\u001b[0;34m\u001b[0m\u001b[0m\n\u001b[0;32m--> 604\u001b[0;31m             \u001b[0mout\u001b[0m \u001b[0;34m=\u001b[0m \u001b[0mcheck_array\u001b[0m\u001b[0;34m(\u001b[0m\u001b[0mX\u001b[0m\u001b[0;34m,\u001b[0m \u001b[0minput_name\u001b[0m\u001b[0;34m=\u001b[0m\u001b[0;34m\"X\"\u001b[0m\u001b[0;34m,\u001b[0m \u001b[0;34m**\u001b[0m\u001b[0mcheck_params\u001b[0m\u001b[0;34m)\u001b[0m\u001b[0;34m\u001b[0m\u001b[0;34m\u001b[0m\u001b[0m\n\u001b[0m\u001b[1;32m    605\u001b[0m         \u001b[0;32melif\u001b[0m \u001b[0mno_val_X\u001b[0m \u001b[0;32mand\u001b[0m \u001b[0;32mnot\u001b[0m \u001b[0mno_val_y\u001b[0m\u001b[0;34m:\u001b[0m\u001b[0;34m\u001b[0m\u001b[0;34m\u001b[0m\u001b[0m\n\u001b[1;32m    606\u001b[0m             \u001b[0mout\u001b[0m \u001b[0;34m=\u001b[0m \u001b[0m_check_y\u001b[0m\u001b[0;34m(\u001b[0m\u001b[0my\u001b[0m\u001b[0;34m,\u001b[0m \u001b[0;34m**\u001b[0m\u001b[0mcheck_params\u001b[0m\u001b[0;34m)\u001b[0m\u001b[0;34m\u001b[0m\u001b[0;34m\u001b[0m\u001b[0m\n",
      "\u001b[0;32m/Library/Frameworks/Python.framework/Versions/3.11/lib/python3.11/site-packages/sklearn/utils/validation.py\u001b[0m in \u001b[0;36mcheck_array\u001b[0;34m(array, accept_sparse, accept_large_sparse, dtype, order, copy, force_all_finite, ensure_2d, allow_nd, ensure_min_samples, ensure_min_features, estimator, input_name)\u001b[0m\n\u001b[1;32m    938\u001b[0m             \u001b[0;31m# If input is 1D raise error\u001b[0m\u001b[0;34m\u001b[0m\u001b[0;34m\u001b[0m\u001b[0m\n\u001b[1;32m    939\u001b[0m             \u001b[0;32mif\u001b[0m \u001b[0marray\u001b[0m\u001b[0;34m.\u001b[0m\u001b[0mndim\u001b[0m \u001b[0;34m==\u001b[0m \u001b[0;36m1\u001b[0m\u001b[0;34m:\u001b[0m\u001b[0;34m\u001b[0m\u001b[0;34m\u001b[0m\u001b[0m\n\u001b[0;32m--> 940\u001b[0;31m                 raise ValueError(\n\u001b[0m\u001b[1;32m    941\u001b[0m                     \u001b[0;34m\"Expected 2D array, got 1D array instead:\\narray={}.\\n\"\u001b[0m\u001b[0;34m\u001b[0m\u001b[0;34m\u001b[0m\u001b[0m\n\u001b[1;32m    942\u001b[0m                     \u001b[0;34m\"Reshape your data either using array.reshape(-1, 1) if \"\u001b[0m\u001b[0;34m\u001b[0m\u001b[0;34m\u001b[0m\u001b[0m\n",
      "\u001b[0;31mValueError\u001b[0m: Expected 2D array, got 1D array instead:\narray=[ 0.06508211 -0.07679299 -0.12622495 -0.21194685 -0.37130913 -0.00826471\n  0.3785915  -0.08375602 -0.46897793 -0.21640076 -0.06643903 -0.11941078\n  0.15829617  0.47883844 -0.2279938  -0.17423813 -0.26982185 -0.13763326\n -0.23200516  0.36163703 -0.2000405   0.41419592  0.22448881 -0.02415787\n -0.24928416 -0.6047167   0.1545506   0.3345941  -0.47248006 -0.04750497\n  0.30256927  0.17677073 -0.07618343 -0.47670278  0.3131007   0.06442707\n -0.29676744  0.04129129  0.26438686  0.18893059  0.15592638 -0.28681895\n -0.14491712  0.09865984 -0.29145616  0.17820393  0.15251888  0.01244185\n  0.5235606  -0.30115196 -0.26732656  0.11977021  0.10050709 -0.744225\n  0.10310429  0.12596667  0.15902075  0.5404102   0.01969431 -0.12694304\n  0.38473293 -0.0016581  -0.131385    0.13452388  0.23858182 -0.12930803\n -0.44654918 -0.52816045 -0.4701198   0.08241788 -0.41215932 -0.11316337\n -0.01908605 -0.01629536 -0.06175913 -0.19537945  0.02687036  0.02340104\n -0.3286164  -0.34294915 -0.44874468 -0.21068919 -0.17909093  0.00164982\n -0.05389043 -0.12435964 -0.06339262 -0.09735153  0.10403486  0.05363674\n -0.19378625 -0.14856611  0.50340754  0.14866893  0.05527619 -0.10995919\n  0.13089508 -0.02554798 -0.60777265  0.14808036  0.06002587  0.13648011\n -0.11618322 -0.14594765  0.2551024   0.09142357  0.02068681  0.11091401\n  0.06683274 -0.11122895  0.22780423  0.27208623  0.25340116  0.12832297\n -0.18978232  0.13288826  0.03308627 -0.32031253  0.07570344 -0.13637525\n -0.00403569  0.22557993  0.24650067  0.15887511 -0.16172369 -0.28538647\n  0.08925512  0.3164984  -0.03279638  0.28451315 -0.14565411 -0.19206475\n  0.0293413   0.26757118 -0.5823484  -0.27287313 -0.0424837  -0.02308333\n  0.23277672 -0.09056436 -0.00645176  0.02110469 -0.22795635  0.05196917\n -0.27120408  0.09428886 -0.5102978   0.05468637 -0.14335252  0.10845118\n -0.1158242   0.23245572  0.17020993  0.06996397 -0.09667168 -0.22853464\n  0.44116175  0.22047801  0.17396045  0.1047859   0.01256129  0.09635582\n -0.12882316 -0.22820675  0.06109071 -0.14880225 -0.11028671  0.08500072\n  0.05372435  0.18236022  0.03240282 -0.3054709  -0.18167315 -0.02336091\n  0.3275161   0.09826288  0.21869826 -0.1561069   0.47101358  0.12015035\n  0.24069692 -0.24628423  0.02381954 -0.16768868 -0.00721502  0.11076397\n  0.20138316  0.40074873 -0.27817547 -0.34340528  0.07999127 -0.01888306\n -0.46768546 -0.15415905 -0.2068839   0.0746104  -0.33754864  0.36688197\n  0.03719887 -0.19462347 -0.04628366 -0.21039401 -0.03627566 -0.6309891\n -0.16648787 -0.1281356   0.1314138  -0.51882136  0.45245847  0.18347295\n -0.14973725 -0.5674616   0.20022015 -0.22555016 -0.05502248 -0.11729071\n  0.09024198  0.2639359  -0.13475758 -0.1612562  -0.16548565 -0.01659079\n  0.29478768 -0.2679694   0.00544825  0.14822507  0.09879123  0.15908845\n  0.14451142 -0.03748192  0.23210752 -0.13978171 -0.10906302  0.04250116\n  0.15869525  0.35953614  0.11556107 -0.01468793  0.30862972 -0.04465433\n  0.282567   -0.18742175  0.03615162  0.15587027  0.26645446 -0.03330783\n -0.1818846   0.13300951 -0.46320572  0.2991396  -0.01313541  0.56285954\n -0.43867877 -0.06994545 -0.08798037  0.29611954 -0.46009016  0.11818993\n  0.13524066  0.21134286 -0.40755937  0.13993953 -0.37441263  0.22933026\n  0.5097288  -0.1810451  -0.10503236  0.18870103 -0.44415435  0.00410778\n -0.07922513 -0.34284973  0.14743012  0.14742114  0.40507534  0.49319872\n  0.37236676  0.06470748 -0.24848886  0.47628888 -0.30799398  0.04453599\n  0.08796086  0.23759145 -0.12694596 -0.03893517  0.10219634 -0.15728754\n  0.08799217  0.06617392 -0.45118317  0.45245814 -0.14068435 -0.0933961\n  0.06553741 -0.01035757 -0.4067246  -0.03026918  0.11511489  0.33301643\n  0.03718917  0.06755742  0.03765108 -0.04731214 -0.04466363  0.00560012\n -0.07507671  0.22050755  0.08865219  0.17849863  0.28271356 -0.11132014\n  0.19082789  0.14157975  0.12599014  0.11380359  0.25136092 -0.19392596\n -0.16983525  0.10328332  0.15421517  0.22485016 -0.1928337   0.2549518\n  0.22163264  0.03913355  0.04187558  0.01398892 -0.43033978  0.50928503\n  0.3364012   0.00789882  0.18488325  0.13763933  0.4845527   0.45533183\n -0.19274688 -0.25239298 -0.03639395 -0.07375261 -0.22387141 -0.08108094\n  0.18437271  0.34099987  0.12326741 -0.0952329   0.41013598  0.12207922\n  0.22025687  0.25919786  0.06610215  0.22434358 -0.35109425 -0.02314264\n -0.09415088 -0.2938702  -0.30196783  0.11995559  0.37227777 -0.24010171\n  0.20523815  0.02354469 -0.19349152  0.47249284 -0.3537371  -0.24180533\n  0.07632077 -0.22133005 -0.04666026  0.03796793 -0.02524836 -0.04484881\n  0.04113794  0.12152828  0.5768658  -0.39887917 -0.06103776  0.10850806\n -0.53038913  0.08808285 -0.04302096 -0.09275538 -0.09516039 -0.1079419 ].\nReshape your data either using array.reshape(-1, 1) if your data has a single feature or array.reshape(1, -1) if it contains a single sample."
     ]
    }
   ],
   "source": [
    "pred = model.predict(embeddings[0])\n",
    "\n",
    "print(pred, twitter_data['target'][0])"
   ]
  },
  {
   "cell_type": "code",
   "execution_count": null,
   "metadata": {},
   "outputs": [],
   "source": []
  }
 ],
 "metadata": {
  "kernelspec": {
   "display_name": "Python 3",
   "language": "python",
   "name": "python3"
  },
  "language_info": {
   "codemirror_mode": {
    "name": "ipython",
    "version": 3
   },
   "file_extension": ".py",
   "mimetype": "text/x-python",
   "name": "python",
   "nbconvert_exporter": "python",
   "pygments_lexer": "ipython3",
   "version": "3.11.4"
  },
  "orig_nbformat": 4
 },
 "nbformat": 4,
 "nbformat_minor": 2
}
